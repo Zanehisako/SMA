{
 "cells": [
  {
   "cell_type": "code",
   "execution_count": null,
   "id": "a5d9a21e-ffa5-4823-9df5-8cf244d43d4f",
   "metadata": {},
   "outputs": [
    {
     "name": "stderr",
     "output_type": "stream",
     "text": [
      "<frozen importlib._bootstrap>:488: RuntimeWarning: Your system is avx2 capable but pygame was not built with support for it. The performance of some of your blits could be adversely affected. Consider enabling compile time detection with environment variables like PYGAME_DETECT_AVX2=1 if you are compiling without cross compilation.\n"
     ]
    },
    {
     "name": "stdout",
     "output_type": "stream",
     "text": [
      "<TimeLimit<OrderEnforcing<PassiveEnvChecker<FrozenLakeEnv<FrozenLake-v1>>>>>\n",
      "Initial state of the system\n",
      "transistion matrix from S0 and using action a1 <TimeLimit<OrderEnforcing<PassiveEnvChecker<FrozenLakeEnv<FrozenLake-v1>>>>>\n",
      "Iteration: 1, action 1, nextstate1 \n",
      "list: (1, 0.0, False, False, {'prob': 0.3333333333333333})\n",
      "Iteration: 2, action 0, nextstate1 \n",
      "list: (1, 0.0, False, False, {'prob': 0.3333333333333333})\n",
      "Iteration: 3, action 3, nextstate2 \n",
      "list: (2, 0.0, False, False, {'prob': 0.3333333333333333})\n",
      "Iteration: 4, action 2, nextstate6 \n",
      "list: (6, 0.0, False, False, {'prob': 0.3333333333333333})\n",
      "Iteration: 5, action 2, nextstate10 \n",
      "list: (10, 0.0, False, False, {'prob': 0.3333333333333333})\n",
      "Iteration: 6, action 3, nextstate9 \n",
      "list: (9, 0.0, False, False, {'prob': 0.3333333333333333})\n",
      "Iteration: 7, action 1, nextstate8 \n",
      "list: (8, 0.0, False, False, {'prob': 0.3333333333333333})\n",
      "Iteration: 8, action 2, nextstate9 \n",
      "list: (9, 0.0, False, False, {'prob': 0.3333333333333333})\n",
      "Iteration: 9, action 3, nextstate10 \n",
      "list: (10, 0.0, False, False, {'prob': 0.3333333333333333})\n",
      "Iteration: 10, action 2, nextstate6 \n",
      "list: (6, 0.0, False, False, {'prob': 0.3333333333333333})\n",
      "Iteration: 11, action 2, nextstate7 \n",
      "list: (7, 0.0, True, False, {'prob': 0.3333333333333333})\n"
     ]
    },
    {
     "ename": "TypeError",
     "evalue": "ord() expected a character, but string of length 0 found",
     "output_type": "error",
     "traceback": [
      "\u001b[31m---------------------------------------------------------------------------\u001b[39m",
      "\u001b[31mTypeError\u001b[39m                                 Traceback (most recent call last)",
      "\u001b[36mCell\u001b[39m\u001b[36m \u001b[39m\u001b[32mIn[1]\u001b[39m\u001b[32m, line 30\u001b[39m\n\u001b[32m     28\u001b[39m y=(\u001b[38;5;28minput\u001b[39m(\u001b[33m'\u001b[39m\u001b[33menter your character\u001b[39m\u001b[33m'\u001b[39m))\n\u001b[32m     29\u001b[39m \u001b[38;5;66;03m#if keyboard.is_pressed('q'):\u001b[39;00m\n\u001b[32m---> \u001b[39m\u001b[32m30\u001b[39m \u001b[38;5;28;01mif\u001b[39;00m \u001b[32m113\u001b[39m==\u001b[38;5;28;43mord\u001b[39;49m\u001b[43m(\u001b[49m\u001b[43my\u001b[49m\u001b[43m)\u001b[49m:\n\u001b[32m     31\u001b[39m  \u001b[38;5;28mprint\u001b[39m(\u001b[33m\"\u001b[39m\u001b[33mEnd Display\u001b[39m\u001b[33m\"\u001b[39m)\n\u001b[32m     32\u001b[39m env.close()    \n",
      "\u001b[31mTypeError\u001b[39m: ord() expected a character, but string of length 0 found"
     ]
    },
    {
     "ename": "",
     "evalue": "",
     "output_type": "error",
     "traceback": [
      "\u001b[1;31mThe Kernel crashed while executing code in the current cell or a previous cell. \n",
      "\u001b[1;31mPlease review the code in the cell(s) to identify a possible cause of the failure. \n",
      "\u001b[1;31mClick <a href='https://aka.ms/vscodeJupyterKernelCrash'>here</a> for more info. \n",
      "\u001b[1;31mView Jupyter <a href='command:jupyter.viewOutput'>log</a> for further details."
     ]
    }
   ],
   "source": [
    "import gymnasium as gym\n",
    "import time\n",
    "import keyboard\n",
    "env=gym.make(\"FrozenLake-v1\",render_mode='human')\n",
    "env.reset()\n",
    "env.render()\n",
    "# format of returnValue is (observation,reward, terminated, truncated, info)\n",
    "# observation (object)  - observed state\n",
    "# reward (float)        - reward that is the result of taking the action\n",
    "# terminated (bool)     - is it a terminal state\n",
    "# truncated (bool)      - it is not important in our case\n",
    "# info (dictionary)     - in our case transition probability\n",
    "print(env)\n",
    "print('Initial state of the system')\n",
    "print(\"transistion matrix from S0 and using action a1\",env)\n",
    "numberOfIterations=30\n",
    " \n",
    "for i in range(numberOfIterations):\n",
    "    randomAction= env.action_space.sample()\n",
    "    returnValue=env.step(randomAction)\n",
    "    env.render()\n",
    "    print('Iteration: {}, action {}, nextstate{} '.format(i+1,randomAction,  returnValue[0]))\n",
    "    print('list:',returnValue)\n",
    "    time.sleep(2), \n",
    "    if returnValue[2]:\n",
    "        break\n",
    "\n",
    "y=(input('enter your character'))\n",
    "#if keyboard.is_pressed('q'):\n",
    "if 113==ord(y):\n",
    " print(\"End Display\")\n",
    "env.close()    "
   ]
  },
  {
   "cell_type": "code",
   "execution_count": null,
   "id": "18f2b6f8-b7ef-4295-b2c9-1ba102880ff6",
   "metadata": {},
   "outputs": [
    {
     "name": "stderr",
     "output_type": "stream",
     "text": [
      "<frozen importlib._bootstrap>:488: RuntimeWarning: Your system is avx2 capable but pygame was not built with support for it. The performance of some of your blits could be adversely affected. Consider enabling compile time detection with environment variables like PYGAME_DETECT_AVX2=1 if you are compiling without cross compilation.\n"
     ]
    },
    {
     "name": "stdout",
     "output_type": "stream",
     "text": [
      "iteration number: 0\n"
     ]
    },
    {
     "ename": "NameError",
     "evalue": "name 'value' is not defined",
     "output_type": "error",
     "traceback": [
      "\u001b[31m---------------------------------------------------------------------------\u001b[39m",
      "\u001b[31mNameError\u001b[39m                                 Traceback (most recent call last)",
      "\u001b[36mCell\u001b[39m\u001b[36m \u001b[39m\u001b[32mIn[1]\u001b[39m\u001b[32m, line 27\u001b[39m\n\u001b[32m     25\u001b[39m \u001b[38;5;28mprint\u001b[39m(\u001b[33m\"\u001b[39m\u001b[33miteration number:\u001b[39m\u001b[33m\"\u001b[39m,iterations)\n\u001b[32m     26\u001b[39m valueFunctionVectorNextIteration=np.zeros(env.observation_space.n)\n\u001b[32m---> \u001b[39m\u001b[32m27\u001b[39m convergenceList.append(np.linalg.norm(\u001b[43mvalue\u001b[49m-valueFunctionVector,\u001b[32m2\u001b[39m))\n\u001b[32m     28\u001b[39m \u001b[38;5;66;03m#convergenceList.append(np.sqrt(np.sum(np.square(valueFunctionVectorNextIteration-valueFunctionVector))))\u001b[39;00m\n\u001b[32m     29\u001b[39m \u001b[38;5;28;01mfor\u001b[39;00m state \u001b[38;5;129;01min\u001b[39;00m env.P:\n",
      "\u001b[31mNameError\u001b[39m: name 'value' is not defined"
     ]
    },
    {
     "ename": "",
     "evalue": "",
     "output_type": "error",
     "traceback": [
      "\u001b[1;31mThe Kernel crashed while executing code in the current cell or a previous cell. \n",
      "\u001b[1;31mPlease review the code in the cell(s) to identify a possible cause of the failure. \n",
      "\u001b[1;31mClick <a href='https://aka.ms/vscodeJupyterKernelCrash'>here</a> for more info. \n",
      "\u001b[1;31mView Jupyter <a href='command:jupyter.viewOutput'>log</a> for further details."
     ]
    }
   ],
   "source": [
    "import gymnasium as gym\n",
    "import matplotlib.pyplot as plt\n",
    "import seaborn as sns\n",
    "import numpy as np\n",
    "\n",
    "env=gym.make(\"FrozenLake-v1\",render_mode='human')\n",
    "env.reset()\n",
    "env.render()\n",
    "env = env.unwrapped\n",
    "\n",
    "# select the discount factor\n",
    "discountFactor=0.9\n",
    "# initialize the value function vector\n",
    "valueFunctionVector=np.zeros(env.observation_space.n)\n",
    "# maximum number of iterations\n",
    "maxNumberOfIterations=500\n",
    "# convergence threshold\n",
    "convergenceTolerance=10**(-3)\n",
    "policyProba=0.25\n",
    "# convergence list \n",
    "convergenceList=[]\n",
    "\n",
    " \n",
    "for iterations in range(maxNumberOfIterations):\n",
    "    print(\"iteration number:\",iterations)\n",
    "    valueFunctionVectorNextIteration=np.zeros(env.observation_space.n)\n",
    "    convergenceList.append(np.linalg.norm(valueFunctionVectorNextIteration-valueFunctionVector,2))\n",
    "    #convergenceList.append(np.sqrt(np.sum(np.square(valueFunctionVectorNextIteration-valueFunctionVector))))\n",
    "    for state in env.P:\n",
    "        outerSum=0\n",
    "        for action in env.P[state]:\n",
    "            innerSum=0\n",
    "            for probability, nextState, reward, isTerminalState in env.P[state][action]:\n",
    "                #print(probability, nextState, reward, isTerminalState)\n",
    "                innerSum=innerSum+ probability*(reward+discountFactor*valueFunctionVector[nextState])\n",
    "            outerSum=outerSum+policyProba*innerSum\n",
    "        valueFunctionVectorNextIteration[state]=outerSum\n",
    "    if(np.max(np.abs(valueFunctionVectorNextIteration-valueFunctionVector))<convergenceTolerance):\n",
    "        valueFunctionVector=valueFunctionVectorNextIteration\n",
    "        print('Convergence ensured')\n",
    "        break\n",
    "    valueFunctionVector=valueFunctionVectorNextIteration    \n",
    "\n",
    "env.close()\n",
    "print(\"finished training\")"
   ]
  },
  {
   "cell_type": "code",
   "execution_count": null,
   "id": "b36d4428-6584-4833-b183-0e575633d333",
   "metadata": {},
   "outputs": [
    {
     "data": {
      "image/png": "[encoded data removed]",
      "text/plain": [
       "<Figure size 640x480 with 1 Axes>"
      ]
     },
     "metadata": {},
     "output_type": "display_data"
    },
    {
     "name": "stdout",
     "output_type": "stream",
     "text": [
      "convergence of the value policy evaluation []\n",
      "convergence of the value policy evaluation []\n"
     ]
    },
    {
     "data": {
      "image/png": "[encoded data removed]",
      "text/plain": [
       "<Figure size 640x480 with 1 Axes>"
      ]
     },
     "metadata": {},
     "output_type": "display_data"
    },
    {
     "data": {
      "image/png": "[encoded data removed]",
      "text/plain": [
       "<Figure size 640x480 with 1 Axes>"
      ]
     },
     "metadata": {},
     "output_type": "display_data"
    },
    {
     "ename": "",
     "evalue": "",
     "output_type": "error",
     "traceback": [
      "\u001b[1;31mThe Kernel crashed while executing code in the current cell or a previous cell. \n",
      "\u001b[1;31mPlease review the code in the cell(s) to identify a possible cause of the failure. \n",
      "\u001b[1;31mClick <a href='https://aka.ms/vscodeJupyterKernelCrash'>here</a> for more info. \n",
      "\u001b[1;31mView Jupyter <a href='command:jupyter.viewOutput'>log</a> for further details."
     ]
    }
   ],
   "source": [
    "# visualize the state values\n",
    "def DisplayGrid(valueFunction,reshapeDim):\n",
    "    ax = sns.heatmap(valueFunction.reshape(reshapeDim,reshapeDim),\n",
    "                     annot=True, square=True,\n",
    "                     cbar=False, cmap='Blues',\n",
    "                     xticklabels=False, yticklabels=False)\n",
    "    plt.savefig('ValueImg.png',dpi=600)\n",
    "    plt.show()\n",
    "     \n",
    "DisplayGrid(valueFunctionVector,4)\n",
    "\n",
    "print(\"convergence of the value policy evaluation\",convergenceList)\n",
    "print(\"convergence of the value policy evaluation\",convergenceList)\n",
    " \n",
    "plt.plot(convergenceList)\n",
    "plt.xlabel('steps')\n",
    "plt.ylabel('Euclidian norm of the value function vector')\n",
    "plt.savefig('convergence.png',dpi=900)\n",
    "plt.show()\n",
    " \n",
    "plt.plot(convergenceList)\n",
    "plt.xlabel('steps')\n",
    "plt.ylabel('Euclidian norm of the value function vector')\n",
    "plt.savefig('convergence.png',dpi=900)\n",
    "plt.show()"
   ]
  },
  {
   "cell_type": "code",
   "execution_count": null,
   "id": "d3fcb643-aff3-46ee-a796-3e836bbfed60",
   "metadata": {},
   "outputs": [],
   "source": []
  }
 ],
 "metadata": {
  "kernelspec": {
   "display_name": "Python 3",
   "language": "python",
   "name": "python3"
  },
  "language_info": {
   "codemirror_mode": {
    "name": "ipython",
    "version": 3
   },
   "file_extension": ".py",
   "mimetype": "text/x-python",
   "name": "python",
   "nbconvert_exporter": "python",
   "pygments_lexer": "ipython3",
   "version": "3.13.3"
  }
 },
 "nbformat": 4,
 "nbformat_minor": 5
}
